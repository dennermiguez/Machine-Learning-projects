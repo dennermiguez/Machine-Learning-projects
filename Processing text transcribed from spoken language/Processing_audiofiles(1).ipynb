{
  "nbformat": 4,
  "nbformat_minor": 0,
  "metadata": {
    "colab": {
      "provenance": []
    },
    "kernelspec": {
      "name": "python3",
      "display_name": "Python 3"
    },
    "language_info": {
      "name": "python"
    }
  },
  "cells": [
    {
      "cell_type": "code",
      "execution_count": null,
      "metadata": {
        "colab": {
          "base_uri": "https://localhost:8080/"
        },
        "id": "B0pwzr2BPSUH",
        "outputId": "2bf5f2d6-4b75-49ee-f800-f9682a5b6bf6"
      },
      "outputs": [
        {
          "output_type": "stream",
          "name": "stdout",
          "text": [
            "Requirement already satisfied: PyDub in /usr/local/lib/python3.10/dist-packages (0.25.1)\n",
            "Collecting SpeechRecognition\n",
            "  Downloading SpeechRecognition-3.10.1-py2.py3-none-any.whl (32.8 MB)\n",
            "\u001b[2K     \u001b[90m━━━━━━━━━━━━━━━━━━━━━━━━━━━━━━━━━━━━━━━━\u001b[0m \u001b[32m32.8/32.8 MB\u001b[0m \u001b[31m32.0 MB/s\u001b[0m eta \u001b[36m0:00:00\u001b[0m\n",
            "\u001b[?25hRequirement already satisfied: requests>=2.26.0 in /usr/local/lib/python3.10/dist-packages (from SpeechRecognition) (2.31.0)\n",
            "Requirement already satisfied: typing-extensions in /usr/local/lib/python3.10/dist-packages (from SpeechRecognition) (4.10.0)\n",
            "Requirement already satisfied: charset-normalizer<4,>=2 in /usr/local/lib/python3.10/dist-packages (from requests>=2.26.0->SpeechRecognition) (3.3.2)\n",
            "Requirement already satisfied: idna<4,>=2.5 in /usr/local/lib/python3.10/dist-packages (from requests>=2.26.0->SpeechRecognition) (3.6)\n",
            "Requirement already satisfied: urllib3<3,>=1.21.1 in /usr/local/lib/python3.10/dist-packages (from requests>=2.26.0->SpeechRecognition) (2.0.7)\n",
            "Requirement already satisfied: certifi>=2017.4.17 in /usr/local/lib/python3.10/dist-packages (from requests>=2.26.0->SpeechRecognition) (2024.2.2)\n",
            "Installing collected packages: SpeechRecognition\n",
            "Successfully installed SpeechRecognition-3.10.1\n"
          ]
        }
      ],
      "source": [
        "!pip install PyDub\n",
        "!pip install SpeechRecognition"
      ]
    },
    {
      "cell_type": "code",
      "source": [
        "import speech_recognition as sr"
      ],
      "metadata": {
        "id": "ih7c5k2LMoQN"
      },
      "execution_count": null,
      "outputs": []
    },
    {
      "cell_type": "code",
      "source": [
        "from pydub import AudioSegment\n"
      ],
      "metadata": {
        "id": "UgNgWVQxQEC9"
      },
      "execution_count": null,
      "outputs": []
    },
    {
      "cell_type": "markdown",
      "source": [
        "Converting audio to the right format"
      ],
      "metadata": {
        "id": "rn5TBmzIPuZi"
      }
    },
    {
      "cell_type": "code",
      "source": [
        "def convert_to_wav(filename):\n",
        "  \"\"\" Takes an audio file not of the mav type and converts it to mav\"\"\"\n",
        "  #importing audio\n",
        "  audio = AudioSegment.from_file(filename)\n",
        "  #new file name\n",
        "  new_filename = filename.split('.')[0]\n",
        "  new_filename = new_filename.split('/')[-1] + '.wav'\n",
        "  #export file as wav\n",
        "  audio.export(new_filename,format = 'wav')\n",
        "  print(f\"Converting {filename} to {new_filename}...\")\n",
        "  #this project was coded in google colab therefore the file exported have the\n",
        "  #path as describe bellow, the function will return the path.\n",
        "  x = '/content/'+new_filename\n",
        "  return x"
      ],
      "metadata": {
        "id": "C8qa462pPqQP"
      },
      "execution_count": null,
      "outputs": []
    },
    {
      "cell_type": "code",
      "source": [
        "#testing the function\n",
        "call_1 = '/content/drive/MyDrive/dataset/call_1_stereo.mp3'\n",
        "call_1_wav = convert_to_wav(call_1)\n"
      ],
      "metadata": {
        "colab": {
          "base_uri": "https://localhost:8080/"
        },
        "id": "vrpyZHoYR4wf",
        "outputId": "471454da-441e-4171-8e72-182c27c7f9d8"
      },
      "execution_count": null,
      "outputs": [
        {
          "output_type": "stream",
          "name": "stdout",
          "text": [
            "Converting /content/drive/MyDrive/dataset/call_1_stereo.mp3 to call_1_stereo.wav...\n"
          ]
        }
      ]
    },
    {
      "cell_type": "code",
      "source": [
        "def show_pydub_stats(filename):\n",
        "   \"\"\"Returns different audio attributes related to an audio file.\"\"\"\n",
        "   #creating audiosegment instance\n",
        "   audio_segment = AudioSegment.from_file(filename)\n",
        "\n",
        "   #print the pydub stats\n",
        "   print(f'Channels: {audio_segment.channels}')\n",
        "   print(f'Sample width: {audio_segment.sample_width}')\n",
        "   print(f'Frame rate (sample rate): {audio_segment.frame_rate}')\n",
        "   print(f'Frame width: {audio_segment.frame_width}')\n",
        "   print(f'Length (ms): {len(audio_segment)}')\n",
        "\n",
        "   return audio_segment"
      ],
      "metadata": {
        "id": "jUrI7rXMZMYm"
      },
      "execution_count": null,
      "outputs": []
    },
    {
      "cell_type": "code",
      "source": [
        "#testing show pydub stats function\n",
        "call1_audio_segment = show_pydub_stats(call_1_wav)"
      ],
      "metadata": {
        "colab": {
          "base_uri": "https://localhost:8080/"
        },
        "id": "REmqZF_oLSUu",
        "outputId": "ad20eaad-4978-4dfe-abe8-9459093b701e"
      },
      "execution_count": null,
      "outputs": [
        {
          "output_type": "stream",
          "name": "stdout",
          "text": [
            "Channels: 2\n",
            "Sample width: 2\n",
            "Frame rate (sample rate): 32000\n",
            "Frame width: 4\n",
            "Length (ms): 54888\n"
          ]
        }
      ]
    },
    {
      "cell_type": "code",
      "source": [
        "def transcribe_audio(filename):\n",
        "  \"\"\"Takes a .wav format audio file and transcribes it to text.\"\"\"\n",
        "  #instantiating the class\n",
        "  recognizer = sr.Recognizer()\n",
        "  #importing the audio and converting to audio data\n",
        "  audio_file = sr.AudioFile(filename)\n",
        "  with audio_file as source:\n",
        "    audio_data = recognizer.record(source)\n",
        "\n",
        "  #transcribing the audio\n",
        "  transcribed = recognizer.recognize_google(audio_data)\n",
        "  return transcribed"
      ],
      "metadata": {
        "id": "0swcGqeILgIv"
      },
      "execution_count": null,
      "outputs": []
    },
    {
      "cell_type": "code",
      "source": [
        "#testing the transcriber function\n",
        "transcribed_call1 = transcribe_audio(call_1_wav)"
      ],
      "metadata": {
        "id": "BnqfFB-UNmbW"
      },
      "execution_count": null,
      "outputs": []
    },
    {
      "cell_type": "markdown",
      "source": [
        "The call contains 2 channels beeig channel 2 the clients speech, therefore we are going to split for only the clients part"
      ],
      "metadata": {
        "id": "2AZxjBvYRewd"
      }
    },
    {
      "cell_type": "code",
      "source": [
        "#extracting the clients part\n",
        "call_1_split = call1_audio_segment.split_to_mono()\n",
        "channel2 = 'call1_channel2.wav'\n",
        "call_1_split[1].export(channel2, format = 'wav')\n",
        "call1_channel_2 = '/content/'+channel2"
      ],
      "metadata": {
        "id": "thWzQv-EPbO_"
      },
      "execution_count": null,
      "outputs": []
    },
    {
      "cell_type": "markdown",
      "source": [
        "The following step is to conduct a sentiment analysis with the customer call"
      ],
      "metadata": {
        "id": "FcNlgRY0XlYv"
      }
    },
    {
      "cell_type": "code",
      "source": [
        "#importing the second call to apply sentiment analysis\n",
        "call2 = '/content/drive/MyDrive/dataset/call2.wav'\n",
        "transcribed_call2 = transcribe_audio(call2)"
      ],
      "metadata": {
        "id": "qO9SqpZYXtIt"
      },
      "execution_count": null,
      "outputs": []
    },
    {
      "cell_type": "code",
      "source": [
        "!pip install nltk"
      ],
      "metadata": {
        "colab": {
          "base_uri": "https://localhost:8080/"
        },
        "id": "ITFPRKTQYDhs",
        "outputId": "08aafb2a-b041-46e0-ea50-49e7f463d877"
      },
      "execution_count": null,
      "outputs": [
        {
          "output_type": "stream",
          "name": "stdout",
          "text": [
            "Requirement already satisfied: nltk in /usr/local/lib/python3.10/dist-packages (3.8.1)\n",
            "Requirement already satisfied: click in /usr/local/lib/python3.10/dist-packages (from nltk) (8.1.7)\n",
            "Requirement already satisfied: joblib in /usr/local/lib/python3.10/dist-packages (from nltk) (1.3.2)\n",
            "Requirement already satisfied: regex>=2021.8.3 in /usr/local/lib/python3.10/dist-packages (from nltk) (2023.12.25)\n",
            "Requirement already satisfied: tqdm in /usr/local/lib/python3.10/dist-packages (from nltk) (4.66.2)\n"
          ]
        }
      ]
    },
    {
      "cell_type": "markdown",
      "source": [
        "The Audio files will be transcribed to text files, after that is completed a sentiment analysis will be conducted to infer what the client is feeling and how to address the call"
      ],
      "metadata": {
        "id": "z3RORd30g_zZ"
      }
    },
    {
      "cell_type": "code",
      "source": [
        "#importing the sentiment analysis packages\n",
        "import nltk\n",
        "nltk.download('punkt')\n",
        "nltk.download('vader_lexicon')"
      ],
      "metadata": {
        "colab": {
          "base_uri": "https://localhost:8080/"
        },
        "id": "QEuGRtGvYXwd",
        "outputId": "65a6f828-bb3e-4391-b360-857aea8379bd"
      },
      "execution_count": null,
      "outputs": [
        {
          "output_type": "stream",
          "name": "stderr",
          "text": [
            "[nltk_data] Downloading package punkt to /root/nltk_data...\n",
            "[nltk_data]   Unzipping tokenizers/punkt.zip.\n",
            "[nltk_data] Downloading package vader_lexicon to /root/nltk_data...\n"
          ]
        },
        {
          "output_type": "execute_result",
          "data": {
            "text/plain": [
              "True"
            ]
          },
          "metadata": {},
          "execution_count": 53
        }
      ]
    },
    {
      "cell_type": "code",
      "source": [
        "from nltk.sentiment.vader import SentimentIntensityAnalyzer"
      ],
      "metadata": {
        "id": "92mTEZJ9YnlB"
      },
      "execution_count": null,
      "outputs": []
    },
    {
      "cell_type": "code",
      "source": [
        "#instantiating the analyzer\n",
        "sent = SentimentIntensityAnalyzer()\n",
        "sentiment_score = sent.polarity_scores(transcribed_call2)\n",
        "sentiment_score"
      ],
      "metadata": {
        "colab": {
          "base_uri": "https://localhost:8080/"
        },
        "id": "Ds-DSn9gYx63",
        "outputId": "31ccba20-832e-4495-9e29-1a1b10843c3d"
      },
      "execution_count": null,
      "outputs": [
        {
          "output_type": "execute_result",
          "data": {
            "text/plain": [
              "{'neg': 0.018, 'neu': 0.888, 'pos': 0.094, 'compound': 0.778}"
            ]
          },
          "metadata": {},
          "execution_count": 55
        }
      ]
    },
    {
      "cell_type": "markdown",
      "source": [
        "After the analysis is completed it's possible to conclude that the sentiment of the client is rather positive given the compund metric is 0.778 in a scale from -1 to 1. Nonetheless is important to note that the neutrality aspect is the biggest part."
      ],
      "metadata": {
        "id": "VvgQg8hghhcE"
      }
    }
  ]
}