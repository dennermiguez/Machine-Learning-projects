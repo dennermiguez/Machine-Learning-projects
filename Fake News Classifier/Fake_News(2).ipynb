{
  "nbformat": 4,
  "nbformat_minor": 0,
  "metadata": {
    "colab": {
      "provenance": []
    },
    "kernelspec": {
      "name": "python3",
      "display_name": "Python 3"
    },
    "language_info": {
      "name": "python"
    }
  },
  "cells": [
    {
      "cell_type": "markdown",
      "source": [
        "The objective of this project is to build a Fake news classifier, using supervised machine learning and natural language processing two different models will be built. The DataBase was obtained from the Data Camp website"
      ],
      "metadata": {
        "id": "LV022Xcyf36B"
      }
    },
    {
      "cell_type": "code",
      "execution_count": null,
      "metadata": {
        "id": "iM3kORG2fkeL"
      },
      "outputs": [],
      "source": [
        "import pandas as pd\n",
        "from sklearn.feature_extraction.text import CountVectorizer\n",
        "from sklearn.feature_extraction.text import TfidfVectorizer\n",
        "from sklearn.model_selection import train_test_split"
      ]
    },
    {
      "cell_type": "code",
      "source": [
        "#loading the dataset\n",
        "path = '/content/drive/MyDrive/dataset/fake_or_real_news.csv'\n",
        "df = pd.read_csv(path,)"
      ],
      "metadata": {
        "id": "Q6A6h46MhFwN"
      },
      "execution_count": null,
      "outputs": []
    },
    {
      "cell_type": "code",
      "source": [
        "#creating a series with the label data\n",
        "y = df.label"
      ],
      "metadata": {
        "id": "iwZ-f2A0hWZ0"
      },
      "execution_count": null,
      "outputs": []
    },
    {
      "cell_type": "code",
      "source": [
        "#separating the data into train and test\n",
        "\n",
        "x_train, x_test,y_train,y_test = train_test_split(df['text'],y, test_size = 0.33, random_state = 53)"
      ],
      "metadata": {
        "id": "uCvOlBPlhkFa"
      },
      "execution_count": null,
      "outputs": []
    },
    {
      "cell_type": "markdown",
      "source": [
        "The first model will be a count vectorizer"
      ],
      "metadata": {
        "id": "v47_I7oyj-Xx"
      }
    },
    {
      "cell_type": "code",
      "source": [
        "#initializing a Count Vectorizer object\n",
        "count_vector = CountVectorizer(stop_words = 'english')"
      ],
      "metadata": {
        "id": "--HhszkGiEQk"
      },
      "execution_count": null,
      "outputs": []
    },
    {
      "cell_type": "code",
      "source": [
        "# Transform the training data using only the 'text' column values: count_train\n",
        "count_train = count_vector.fit_transform(x_train)"
      ],
      "metadata": {
        "id": "pdooj3D7iQ45"
      },
      "execution_count": null,
      "outputs": []
    },
    {
      "cell_type": "code",
      "source": [
        "# Transform the test data using only the 'text' column values: count_test\n",
        "count_test =count_vector.transform(x_test)"
      ],
      "metadata": {
        "id": "zgkFL9Vlibph"
      },
      "execution_count": null,
      "outputs": []
    },
    {
      "cell_type": "markdown",
      "source": [
        "tf idf model\n"
      ],
      "metadata": {
        "id": "zuO2T3UYllTv"
      }
    },
    {
      "cell_type": "markdown",
      "source": [],
      "metadata": {
        "id": "AynmyxrHlnT8"
      }
    },
    {
      "cell_type": "code",
      "source": [
        "#initializing the TF idf Vector\n",
        "tfidf_vector = TfidfVectorizer(stop_words='english', max_df= 0.7)"
      ],
      "metadata": {
        "id": "imGmHq3ekLhI"
      },
      "execution_count": null,
      "outputs": []
    },
    {
      "cell_type": "code",
      "source": [
        "#fitting and transforming the train data\n",
        "tf_train = tfidf_vector.fit_transform(x_train)"
      ],
      "metadata": {
        "id": "Eqhbc3TrlCuo"
      },
      "execution_count": null,
      "outputs": []
    },
    {
      "cell_type": "code",
      "source": [
        "#transforming the test data\n",
        "tf_test = tfidf_vector.transform(x_test)"
      ],
      "metadata": {
        "id": "W24-zfqklNii"
      },
      "execution_count": null,
      "outputs": []
    },
    {
      "cell_type": "code",
      "source": [],
      "metadata": {
        "id": "bVBF6qtPnt2N"
      },
      "execution_count": null,
      "outputs": []
    },
    {
      "cell_type": "code",
      "source": [
        "# Create the CountVectorizer DataFrame: count_df\n",
        "count_df = pd.DataFrame(count_train.A, columns = count_vector.get_feature_names_out())"
      ],
      "metadata": {
        "id": "SBpIIt7XnanA"
      },
      "execution_count": null,
      "outputs": []
    },
    {
      "cell_type": "code",
      "source": [
        "#creating a TFidf DataFrame\n",
        "tfidf_df = pd.DataFrame(tf_train.A, columns = tfidf_vector.get_feature_names_out())"
      ],
      "metadata": {
        "id": "bXb5paUInxlc"
      },
      "execution_count": null,
      "outputs": []
    },
    {
      "cell_type": "code",
      "source": [
        "#Testing if the column names are the same for each DataFrame by creating a new object called difference\n",
        "difference = set(count_df.columns) - set(tfidf_df.columns)\n",
        "difference"
      ],
      "metadata": {
        "colab": {
          "base_uri": "https://localhost:8080/"
        },
        "id": "RjcS4ptcoImM",
        "outputId": "5c9b565b-addf-43ba-a36a-0751f073bea6"
      },
      "execution_count": null,
      "outputs": [
        {
          "output_type": "execute_result",
          "data": {
            "text/plain": [
              "set()"
            ]
          },
          "metadata": {},
          "execution_count": 21
        }
      ]
    },
    {
      "cell_type": "code",
      "source": [
        "count_df.equals(tfidf_df)"
      ],
      "metadata": {
        "colab": {
          "base_uri": "https://localhost:8080/"
        },
        "id": "06_j13ytoc8k",
        "outputId": "c853a45a-0cd8-4dfa-9ccd-77be4415317c"
      },
      "execution_count": null,
      "outputs": [
        {
          "output_type": "execute_result",
          "data": {
            "text/plain": [
              "False"
            ]
          },
          "metadata": {},
          "execution_count": 22
        }
      ]
    },
    {
      "cell_type": "markdown",
      "source": [
        "The method chosen to classify the data was the naive Bayes, due to it's rather simplicity and effectiveness"
      ],
      "metadata": {
        "id": "mML-xmI00vjU"
      }
    },
    {
      "cell_type": "code",
      "source": [
        "from sklearn.naive_bayes import MultinomialNB\n",
        "from sklearn import metrics"
      ],
      "metadata": {
        "id": "rPq_NDY_0ut1"
      },
      "execution_count": null,
      "outputs": []
    },
    {
      "cell_type": "markdown",
      "source": [
        "The first model will be trained with the data transformed by the Count Vectorizer"
      ],
      "metadata": {
        "id": "Qwv4Xlax1U-d"
      }
    },
    {
      "cell_type": "code",
      "source": [
        "#fitting the model\n",
        "nb_classifier = MultinomialNB()\n",
        "nb_classifier.fit(count_train, y_train)\n",
        "#making the predictions\n",
        "pred = nb_classifier.predict(count_test)\n",
        "#calculating the accuracy\n",
        "accuracy = metrics.accuracy_score(y_test, pred)\n",
        "print(f'The accuracy of the Naive bayes model for Count Vector is: {accuracy}')\n"
      ],
      "metadata": {
        "colab": {
          "base_uri": "https://localhost:8080/"
        },
        "id": "fZjT0X6Z1Qjl",
        "outputId": "86baca19-3ace-4d21-8fa9-b86aed7dbd4b"
      },
      "execution_count": null,
      "outputs": [
        {
          "output_type": "stream",
          "name": "stdout",
          "text": [
            "The accuracy of the Naive bayes model for Count Vector is: 0.893352462936394\n"
          ]
        }
      ]
    },
    {
      "cell_type": "code",
      "source": [
        "#Visualizing the confusion matrix\n",
        "cm = metrics.confusion_matrix(y_test, pred, labels = ['FAKE','REAL'])\n",
        "cm"
      ],
      "metadata": {
        "colab": {
          "base_uri": "https://localhost:8080/"
        },
        "id": "h2N-XaOD213J",
        "outputId": "c9285b64-7531-4882-d673-0cc269d5e42f"
      },
      "execution_count": null,
      "outputs": [
        {
          "output_type": "execute_result",
          "data": {
            "text/plain": [
              "array([[ 865,  143],\n",
              "       [  80, 1003]])"
            ]
          },
          "metadata": {},
          "execution_count": 26
        }
      ]
    },
    {
      "cell_type": "code",
      "source": [],
      "metadata": {
        "id": "ZTPkq0dnessj"
      },
      "execution_count": null,
      "outputs": []
    },
    {
      "cell_type": "markdown",
      "source": [
        "The second model will be trained with the data transformed with the TF-idF Vectorizer"
      ],
      "metadata": {
        "id": "sOzW06_420_h"
      }
    },
    {
      "cell_type": "code",
      "source": [
        "#fitting the model\n",
        "nb_classifier2 = MultinomialNB()\n",
        "nb_classifier2.fit(tf_train, y_train)\n",
        "#making the predictions\n",
        "pred2 = nb_classifier2.predict(tf_test)\n",
        "#calculating the accuracy\n",
        "score = metrics.accuracy_score(y_test, pred2)\n",
        "print(f'The accuracy of the Tf-idF Vectorizer is: {score}')"
      ],
      "metadata": {
        "colab": {
          "base_uri": "https://localhost:8080/"
        },
        "id": "faPeNK3-39TC",
        "outputId": "033b07dc-5e34-42f2-e103-e2a79e83e279"
      },
      "execution_count": null,
      "outputs": [
        {
          "output_type": "stream",
          "name": "stdout",
          "text": [
            "The accuracy of the Tf-idF Vectorizer is: 0.8565279770444764\n"
          ]
        }
      ]
    },
    {
      "cell_type": "code",
      "source": [
        "#visualizing the confusion matrix\n",
        "cm2 = metrics.confusion_matrix(y_test, pred2, labels = ['FAKE','REAL'])\n",
        "cm2"
      ],
      "metadata": {
        "colab": {
          "base_uri": "https://localhost:8080/"
        },
        "id": "DJzSU2u44q7s",
        "outputId": "a8a11eb2-3c42-4c87-8665-c88f65bfb098"
      },
      "execution_count": null,
      "outputs": [
        {
          "output_type": "execute_result",
          "data": {
            "text/plain": [
              "array([[ 739,  269],\n",
              "       [  31, 1052]])"
            ]
          },
          "metadata": {},
          "execution_count": 28
        }
      ]
    },
    {
      "cell_type": "markdown",
      "source": [],
      "metadata": {
        "id": "_aZP9D9xoIaj"
      }
    }
  ]
}